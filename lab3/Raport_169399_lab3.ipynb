{
 "cells": [
  {
   "metadata": {},
   "cell_type": "markdown",
   "source": "Zadanie 1:",
   "id": "3d6781b82da8e663"
  },
  {
   "metadata": {},
   "cell_type": "code",
   "outputs": [],
   "execution_count": null,
   "source": [
    "def rysuj_ramki_szare(w, h, grub, kolor_ramki=80, kolor_tla=180):\n",
    "    t = (h, w)\n",
    "    tab = np.ones(t, dtype=np.uint8)\n",
    "    tab[:] = kolor_ramki\n",
    "    tab[grub:h - grub, grub:w - grub] = kolor_tla\n",
    "    return Image.fromarray(tab)"
   ],
   "id": "1529395634f4f798"
  },
  {
   "metadata": {},
   "cell_type": "markdown",
   "source": [
    "Funkcja rysuj_ramki_szare:\n",
    "- parametrami funkcji są: wprowadzona szerokość i wysokość, grubość a także o kolor ramki w tym wypadku szary = 80 i kolor tła = 180 \n",
    "- w 2 linii kodu przypisuję do zmiennej tymczasowej \"t\" wymiary tworzonego obrazu\n",
    "- w 3 linii tworzę tablice uint8 o rozmiarze podanym przez użytkownika\n",
    "- w 4 linii ustalam tutaj kolor ramki\n",
    "- w 5 linii wykluczam z malowania ramkę i w reszcie tablicy ustalam wartość na 180 w celu ustawienia tła\n",
    "- w 6 linii zwracam obraz wykonany na podstawie tablicy tab - w funkcji main zostanie on zapisany\n",
    "\n",
    "\n",
    "![](zad1_ramka_szara.png) "
   ],
   "id": "9c03d6556135dff6"
  },
  {
   "metadata": {},
   "cell_type": "code",
   "outputs": [],
   "execution_count": null,
   "source": [
    "def rysuj_pasy_pionowe_szare(w, h, grub, kolor_start=100, zmiana_koloru=50):\n",
    "    t = (h, w)\n",
    "    tab = np.ones(t, dtype=np.uint8)\n",
    "    ile = int(w / grub)\n",
    "\n",
    "    for k in range(ile):\n",
    "        for g in range(grub):\n",
    "            j = k * grub + g\n",
    "            odcien_szary = (kolor_start + k * zmiana_koloru) % 256\n",
    "            tab[:, j] = odcien_szary\n",
    "    return Image.fromarray(tab)"
   ],
   "id": "206b296ffb953885"
  },
  {
   "metadata": {},
   "cell_type": "markdown",
   "source": [
    "Funkcja rysuj_paski_pionowe_szare przyjmuje parametry: szerokość, wysokość, grubość, kolor początkowy i współczynnik zmiany koloru.\n",
    "- w 2 i 3 linii przypisuje rozmiary do zmiennej a nastepnie tworze tablice jedynek o zadanym rozmiarze\n",
    "- 4 linii obliczam ilość pasów pionowych o gubości grub\n",
    "- pętla rozpoczynajaca się w 6 linii przypisuje zmiennej k wartość nie większą od ilości pasków - 1\n",
    "- druga pętla iteruje po tablicy i koloruje pasy tak aby wartośc koloru nie była większa od 256 pilnuje tego operacja modulo, w każdym pasie do koloru początkowego dodawany jest numer pasa a następnie to mnożone jest przez współczynnik zmiany koloru, w tym wypadku dla wartości 100 i 50 otrzymujemy gradient szarości\n",
    "\n",
    "\n",
    "![](zad1_pasy_pionowe_szare.png)\n"
   ],
   "id": "90b00fda799bbc7"
  },
  {
   "metadata": {},
   "cell_type": "markdown",
   "source": [
    "-----------------------------------------------------------\n",
    "Zadanie 2:"
   ],
   "id": "b247258b367a8237"
  },
  {
   "metadata": {},
   "cell_type": "code",
   "outputs": [],
   "execution_count": null,
   "source": [
    "def negatyw(obraz):\n",
    "    tryb = obraz.mode\n",
    "\n",
    "    if tryb == '1':\n",
    "\n",
    "        tab = np.asarray(obraz)\n",
    "        tab_neg = 1 - tab\n",
    "        return Image.fromarray(tab_neg.astype(np.uint8) * 255)\n",
    "\n",
    "\n",
    "    elif tryb == 'L':\n",
    "        tab = np.asarray(obraz)\n",
    "        tab_neg = 255 - tab\n",
    "        return Image.fromarray(tab_neg)\n",
    "\n",
    "\n",
    "    elif tryb == 'RGB':\n",
    "        tab = np.asarray(obraz)\n",
    "        tab_neg = 255 - tab\n",
    "        return Image.fromarray(tab_neg)\n",
    "\n",
    "    else:\n",
    "        print(f\"Nieobsługiwany tryb obrazu: {tryb}\")"
   ],
   "id": "fe2cd4355105c905"
  },
  {
   "metadata": {},
   "cell_type": "markdown",
   "source": [
    "Funkcja negatyw:\n",
    "- rozpisałem trzy ify aby sprawdzić jakiego trybu jest wczytany obraz, kolejno czy obraz jest w trybie '1', 'L' czy może 'RGB'\n",
    "- Funkcja dla trybu '1' zamienia obraz na tablice NumPy aby wykonać działanie, wykonuje działanie 1 - tab (wartość w aktualnym miejscu), jeżeli tablica w danym miejscu miała wartość 1 (biały) to po wykonaniu działania wartość będzie równa 0 (czarny)\n",
    "- na koniec tablice przekształcam na obraz, wykorzystuje mnożenie przez 255 i konwersję do uint8 aby kolory na pewno zostały białe i czarne\n",
    "\n",
    "![Oryginalny obrazek gwiazdka.bmp](gwiazdka.bmp) \n",
    "\n",
    "Oryginał\n",
    "\n",
    "\n",
    "\n",
    "![Negatyw z gwiazdka.bmp](zad2_negatyw_gwiazdka.png)\n",
    " \n",
    "Negatyw"
   ],
   "id": "643b9103cb1ad329"
  },
  {
   "metadata": {},
   "cell_type": "markdown",
   "source": [
    "Funkcja negatyw tryb 'L' i 'RGB':\n",
    "- W obu trybach zastosowałem analogiczne odwracanie kolorów\n",
    "- Od wartości 255 odejmuję wartość tablicy przez to dostaję odwrotny kolor w skali szarości lub w skali RGB\n",
    "- Na końcu funkcja zwraca nowo powstały obraz negatyw "
   ],
   "id": "ce1f4fef1a64a6c4"
  },
  {
   "metadata": {},
   "cell_type": "markdown",
   "source": "Kody z zajęć wykorzystywane w zadaniu 2:",
   "id": "d5464a4dbfe9e737"
  },
  {
   "metadata": {},
   "cell_type": "code",
   "outputs": [],
   "execution_count": null,
   "source": [
    "def rysuj_ramki_kolorowe(w, kolor, zmiana_koloru_r, zmiana_koloru_g, zmiana_koloru_b):\n",
    "    t = (w, w, 3)\n",
    "    tab = np.zeros(t, dtype=np.uint8)\n",
    "    kolor_r = kolor[0]\n",
    "    kolor_g = kolor[1]\n",
    "    kolor_b = kolor[2]\n",
    "    z = w\n",
    "    for k in range(int(w / 2)):\n",
    "        for i in range(k, z - k):\n",
    "            for j in range(k, z - k):\n",
    "                tab[i, j] = [kolor_r, kolor_g, kolor_b]\n",
    "        kolor_r = (kolor_r - zmiana_koloru_r) % 256\n",
    "        kolor_g = (kolor_g - zmiana_koloru_g) % 256\n",
    "        kolor_b = (kolor_b - zmiana_koloru_b) % 256\n",
    "    return Image.fromarray(tab)"
   ],
   "id": "476d3e0a0e4aa51d"
  },
  {
   "metadata": {},
   "cell_type": "markdown",
   "source": [
    "1. Funkcja tworzy tablicę o kształcie w * w * 3 oznacza to, że jest to kwadrat o boku w a także 3 kanały (RGB).\n",
    "2. Pętla z 8 linii iteruje od 0 do połowy rozmiaru czyli od zewnętrznej krawędzi w stornę środka.\n",
    "3. Za rysowanie ramki odpowiada pętla zaczynajaca sie w 9 linijce kodu a kończąca w 11; pętla ta dla k = 0 rysuje największą ramkę a dla k = 1 mniejszą o 1 pixel z kazdej strony, działa to analogiczne dla kolejnych iteracji k\n",
    "4. Kanały RGB w każdej ramce zamieniane są zgodnie z wartościami (linijka od 12 do 14) jeśli wartości przekroczą zakres od 0 do 255 zadziała funkcja modulo która zamieni wartość aby pasowała do zakresu\n",
    "\n",
    "Załączam oryginalny obraz kolorwych ramek a także ich negatyw:\n",
    "\n",
    "\n",
    "![oryginał](zad2_ramki_kolorwe.png)         \n",
    "\n",
    "Oryginał\n",
    "\n",
    "\n",
    "![negatyw](zad2_negatyw_ramki_kolorowe.png)    \n",
    " \n",
    "Negatyw\n",
    "\n"
   ],
   "id": "55da246f216c07a7"
  },
  {
   "metadata": {},
   "cell_type": "code",
   "outputs": [],
   "execution_count": null,
   "source": [
    "def rysuj_po_skosie_szare(h,w, a, b):  # formuła zmiany wartości elemntów tablicy a*i + b*j\n",
    "    t = (h, w) # rysuje kwadratowy obraz\n",
    "    tab = np.zeros(t, dtype=np.uint8)\n",
    "    for i in range(h):\n",
    "        for j in range(w):\n",
    "            tab[i, j] = (a*i + b*j) % 256\n",
    "    return Image.fromarray(tab)"
   ],
   "id": "3ab9c28cc960be6e"
  },
  {
   "metadata": {},
   "cell_type": "markdown",
   "source": [
    "Funkcja rysuj_po_skosie_szare:\n",
    "1. Funckja przyjmuje 4 parametry wysokośc - h, szerokość - w, a - współczynnik zmiany szarości na wiersze, b - współczynnik zmiany szarości na kolumny.\n",
    "2. Tworzy tablice o rozmiarze h * w którą wypełnia 0 \n",
    "3. Zewnętrzna pętla iteruje przez wiersze od i do h-1 a wewnętrzna przez kolumny od j do w-1\n",
    "4. Nastepnie zamienia każdy pixel korzystając z wzoru (a*i + b*i) modulo 256 - funkcja modulo pilnuje nie przekroczenia zakresu koloru od 0 do 255\n",
    "5. W przypadku równych parametrów a i b wartości szarości zmieniają się równomiernie\n",
    "6. W przypadku gdy a jest dużo większe od b wartości w pionie zmieniają się szybciej niż w poziomie daje to bardziej pionowy gradient\n",
    "7. W przypadku gdy b jest większe od a, w poziomie zmieniają sie szybciej wartości mamy gradient pionowy\n",
    "\n",
    "Załączam oryginalny obraz szarych pasów po skosie, a także ich negatyw:\n",
    "\n",
    "\n",
    "![oryginał](zad2_pasy_skos.png)        \n",
    " \n",
    "Oryginał\n",
    "\n",
    "\n",
    "![negatyw](zad2_negatyw_po_skosie_szare.png)    \n",
    "    \n",
    "Negatyw"
   ],
   "id": "11a2c7e843f614e4"
  },
  {
   "metadata": {},
   "cell_type": "markdown",
   "source": [
    "----------------------\n",
    "Zadanie 3:\n",
    "Stworzyłem funkcję która koloruje wejściowy obraz w trybie '1' na czerwono, zielono i niebiesko. Kolory przydzielane są wierszami, paski są grubości podanej przez uzytkownika."
   ],
   "id": "eb32cad74bbc95ca"
  },
  {
   "metadata": {},
   "cell_type": "code",
   "outputs": [],
   "execution_count": null,
   "source": [
    "def koloruj_w_paski(obraz, grub):\n",
    "    if obraz.mode != '1':\n",
    "        raise ValueError(\"Obraz musi być w trybie '1' (czarno-biały).\")\n",
    "    t_obraz = np.asarray(obraz)\n",
    "    h, w = t_obraz.shape\n",
    "    tab_rgb = np.ones((h, w, 3), dtype=np.uint8) * 255  \n",
    "    kolory = [\n",
    "        [255, 0, 0],  # Czerwony\n",
    "        [0, 255, 0],  # Zielony\n",
    "        [0, 0, 255]  # Niebieski\n",
    "    ]\n",
    "    ile_kolorow = len(kolory)\n",
    "    \n",
    "    for i in range(h):\n",
    "        kolor_paska = kolory[(i // grub) % ile_kolorow]  \n",
    "        for j in range(w):\n",
    "            if t_obraz[i, j] == 0:  \n",
    "                tab_rgb[i, j] = kolor_paska  \n",
    "    return Image.fromarray(tab_rgb, mode='RGB')"
   ],
   "id": "f0ad68c19bdd9215"
  },
  {
   "metadata": {},
   "cell_type": "markdown",
   "source": [
    "Wytłumaczenie kodu:\n",
    "1. Sprawdzam czy obraz który będzie kolorowany jest w trybie '1', jeżeli nie to funkcja zwraca error\n",
    "2. Zamieniam obraz na tablicę i pobieram rozmiar tablicy aby na jej podstawie utworzyć nową tablicę o wymiarach h * w * 3 (*3 aby mieć trzy wartości RGB dla pixela) na początku wypełniam ją 255 jest ona cała biała\n",
    "3. Definiuje kolory którymi będę zamieniać czarne pixele, w moim wypadku są to 3 kolory: czerwony, zielony i niebieski\n",
    "4. Pierwsza pętla iteruje po każdym wierszu obrazu i oblicza dla niego kolor paska\n",
    "5. Druga pętla iteruje po wejściowej do funkcji tablicy i sprawdza czy pixel o współrzednych (i,j) był równy 0 czyli czarny jeżeli tak to w tab_rgb przydziela mu kolor obliczony wczesniej. W taki sposób czarne pixele zamieniane są na kolor.\n",
    "6. Na koniec funkcja zamienia tablice na obraz RGB\n",
    "\n",
    "![Oryginał inicjaly](inicjaly.bmp)\n",
    "\n",
    "Oryginał\n",
    "\n",
    "![Kolorowe inicjaly](zad3_inicjaly.png)\n",
    "\n",
    "Kolorowe inicjaly wersja png\n",
    "\n",
    "![Kolowe inicjaly](zad3_inicjaly_kolor.jpg)\n",
    "\n",
    "Kolorwe inicjaly wersja jpg"
   ],
   "id": "ee5f5f3cc8bebc3c"
  },
  {
   "metadata": {},
   "cell_type": "markdown",
   "source": [
    "Różnica między wersją png a jpg\n",
    "Format png jest formatem bezstratnym, przechowuje on dokładnie takie same dane obrazu które zostały zapisane, format jpg natomiast jest formatem stratnym kompresuje on dane pierwotne w celu zmniejszenia rozmiaru pliku.\n",
    "\n",
    "Podczas kompresji do formatu jpg obraz ulega utraty pewnych informacji czego skutki widać porównując oba kolorowe inicjaly. Szczególnie na krawędziach między kolorem a białym tłem widać liczne artefakty. "
   ],
   "id": "ff52e822b0c6e83b"
  },
  {
   "metadata": {},
   "cell_type": "markdown",
   "source": [
    "----------------------------\n",
    "Zadanie 4:\n",
    " Jak działa typ uint8 w przypadku, gdy podana wartość koloru przekracza 255 lub jest ujemna?\n",
    "Jaka wartość będzie, gdy podamy a) 328 b) -24 ? W raporcie zapisz uzasadnienie odpowiedzi.\n",
    "\n",
    "W przypadku przekroczenia wartości koloru w formacie uint8 wykonywana jest operacja modulo 256, każdy nadmiar powyżej 255 będzie obliczany tak aby znaleźć się w zakresie od 0 do 255\n",
    "Jeżeli podamy wartość poniżej 0 dla niej również obliczona zostanie wartość z zakresu 0 - 255 w tym wypadku dodajemy wartośc 256 do wartości ujemnej\n",
    "\n",
    "Dlatego dla wartości a) 328:\n",
    "328 > 255 wykonujemy operacje 328%256 = 72 wartość nowego koloru wynosić będzie 72\n",
    "\n",
    "Dla wartosci b) -24:\n",
    "-24 < 0 wykonujemy operacje -24 + 256 = 232 - wartość nowego koloru wynosić będzie 232"
   ],
   "id": "6241a9e2912e2c15"
  }
 ],
 "metadata": {
  "kernelspec": {
   "display_name": "Python 3",
   "language": "python",
   "name": "python3"
  },
  "language_info": {
   "codemirror_mode": {
    "name": "ipython",
    "version": 2
   },
   "file_extension": ".py",
   "mimetype": "text/x-python",
   "name": "python",
   "nbconvert_exporter": "python",
   "pygments_lexer": "ipython2",
   "version": "2.7.6"
  }
 },
 "nbformat": 4,
 "nbformat_minor": 5
}
