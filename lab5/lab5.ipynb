{
 "cells": [
  {
   "cell_type": "code",
   "execution_count": 33,
   "metadata": {},
   "source": [
    "from PIL import Image\n",
    "import numpy as np\n",
    "from PIL import ImageChops\n",
    "from PIL import ImageStat as stat\n",
    "import matplotlib.pyplot as plt\n",
    "from random import randint"
   ],
   "outputs": []
  },
  {
   "cell_type": "code",
   "execution_count": 60,
   "metadata": {},
   "source": [
    "im = Image.open('beksinski.png')\n",
    "print(\"tryb\", im.mode)\n",
    "print(\"format\", im.format)\n",
    "print(\"rozmiar\", im.size)\n",
    "w, h = im.size\n",
    "im"
   ],
   "outputs": []
  },
  {
   "cell_type": "code",
   "execution_count": null,
   "metadata": {},
   "source": [
    "im1 = Image.open('jesien.jpg')\n",
    "print(\"tryb\", im1.mode)\n",
    "print(\"format\", im1.format)\n",
    "print(\"rozmiar\", im1.size)\n",
    "h, w = im1.size\n",
    "im1"
   ],
   "outputs": []
  },
  {
   "cell_type": "markdown",
   "metadata": {},
   "source": [
    "Ukrywanie informacji w obrazie"
   ]
  },
  {
   "cell_type": "code",
   "execution_count": 55,
   "metadata": {},
   "source": [
    "im_kod = Image.open('kod.bmp')"
   ],
   "outputs": []
  },
  {
   "cell_type": "code",
   "execution_count": 56,
   "metadata": {},
   "source": [
    "def ukryj_kod(obraz, im_kod):\n",
    "    t_obraz = np.asarray(obraz)\n",
    "    t_kodowany = t_obraz.copy()\n",
    "    h, w, d = t_obraz.shape\n",
    "    t_kod = np.asarray(im_kod)\n",
    "    for i in range(h):\n",
    "        for j in range(w):\n",
    "            if t_kod[i, j] > 0:\n",
    "                k = randint(0,2)\n",
    "                t_kodowany[i, j, k] = t_obraz[i, j, k] + 1\n",
    "    return Image.fromarray(t_kodowany) "
   ],
   "outputs": []
  },
  {
   "cell_type": "code",
   "execution_count": 57,
   "metadata": {},
   "source": [
    "im_kodowany = ukryj_kod(im, im_kod)\n",
    "im_kodowany"
   ],
   "outputs": []
  },
  {
   "cell_type": "markdown",
   "metadata": {},
   "source": [
    "Próba odkrycia kodu z użyciem ImageChops.difference (nieskuteczna)"
   ]
  },
  {
   "cell_type": "code",
   "execution_count": 58,
   "metadata": {},
   "source": [
    "odkodowany = ImageChops.difference(im, im_kodowany)\n",
    "odkodowany"
   ],
   "outputs": []
  }
 ],
 "metadata": {
  "kernelspec": {
   "display_name": "Python 3",
   "language": "python",
   "name": "python3"
  },
  "language_info": {
   "codemirror_mode": {
    "name": "ipython",
    "version": 3
   },
   "file_extension": ".py",
   "mimetype": "text/x-python",
   "name": "python",
   "nbconvert_exporter": "python",
   "pygments_lexer": "ipython3",
   "version": "3.8.0"
  },
  "orig_nbformat": 4
 },
 "nbformat": 4,
 "nbformat_minor": 2
}
