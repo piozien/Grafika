{
 "cells": [
  {
   "cell_type": "code",
   "execution_count": null,
   "id": "d99875ab4e1bad71",
   "metadata": {},
   "outputs": [],
   "source": [
    "from PIL import Image, ImageChops\n",
    "import numpy as np\n",
    "import matplotlib.pyplot as plt\n",
    "from random import randint"
   ]
  },
  {
   "cell_type": "markdown",
   "id": "2b5854a18d0fdc31",
   "metadata": {},
   "source": [
    "Zadanie 1:<br>\n",
    "Funkcja wstaw_inicjaly(obraz_bazowy, obraz_wstawiany, m, n, kolor)"
   ]
  },
  {
   "cell_type": "markdown",
   "id": "e0825ac93656b24",
   "metadata": {},
   "source": []
  },
  {
   "cell_type": "code",
   "execution_count": null,
   "id": "69e579cbcad41269",
   "metadata": {},
   "outputs": [],
   "source": [
    "def wstaw_inicjaly(obraz_bazowy, obraz_wstawiany, m, n, kolor):\n",
    "    obraz_bazowy = np.array(obraz_bazowy.convert('RGB'))\n",
    "    obraz_wstawiany = np.array(obraz_wstawiany.convert('L'))\n",
    "\n",
    "    obraz_bazowy.setflags(write=True)\n",
    "\n",
    "    h_wstawiany, w_wstawiany = obraz_wstawiany.shape\n",
    "    h_bazowy, w_bazowy, _ = obraz_bazowy.shape\n",
    "\n",
    "    for i in range(h_wstawiany):\n",
    "        for j in range(w_wstawiany):\n",
    "            if obraz_wstawiany[i, j] == 0:\n",
    "                x = m + i\n",
    "                y = n + j\n",
    "                if 0 <= x < h_bazowy and 0 <= y < w_bazowy:\n",
    "                    obraz_bazowy[x, y] = kolor\n",
    "\n",
    "    return Image.fromarray(obraz_bazowy)"
   ]
  },
  {
   "cell_type": "markdown",
   "id": "6f52a8c832f262a4",
   "metadata": {},
   "source": [
    "Funkcja wczytuje obraz_bazowy, obraz_wstawiany, pozycję m i n praz kolor. Na podstawie wczytanych parametrów wstawia w odpowiednich miejscach obraz_wstawiany tak aby białe tło zostało zignorowane.<br&gt;\n",
    "W pierwszym kroku zamieniam obrazy na tablice jedną formatu RGB a drugą formatu L, następnie ustawiam flagę write=True co umożliwia modyfikacje obrazu_bazowego.<br&gt;\n",
    "Z obu obrazów pobieram wysokość i szerokość, a w obrazie bazowym jeszcze liczbę kanałów.<br&gt;\n",
    "Iteruję po każdym pikselu obrazu_wstawianego jeżeli znajdę piksel o wartości 0 (czarny kolor) to rysuje ten piksel na obrazie bazowym według iteracji. x = m + i; y = n + j Jeżeli wyliczona wartość x i y mieści się w granicach obrazu_bazowego zaznaczam kolorem piksel.\n",
    "Funkcja zwraca zmodyfikowany obraz_bazowy, ułatwia to kolejne modyfikacje. Ja akurat wykonałem trzy podpunkty na jednym obrazie."
   ]
  },
  {
   "cell_type": "code",
   "execution_count": null,
   "id": "3855c157d8f517d8",
   "metadata": {},
   "outputs": [],
   "source": [
    "def zadanie1():\n",
    "    im = Image.open('obraz_bazowy.png')\n",
    "    inicjaly = Image.open('obraz_wstawiany.bmp')\n",
    "\n",
    "    # pkt 1\n",
    "    m1 = 0\n",
    "    n1 = im.size[0] - inicjaly.size[0]\n",
    "    result1 = wstaw_inicjaly(im, inicjaly, m1, n1, [0, 255, 0])\n",
    "\n",
    "    # pkt 2\n",
    "    m2 = im.size[1] - inicjaly.size[1]\n",
    "    n2 = 0\n",
    "    result2 = wstaw_inicjaly(result1, inicjaly, m2, n2, [255, 0, 0])\n",
    "\n",
    "    # pkt 3\n",
    "    m3 = im.size[1] // 2 - inicjaly.size[1] // 2\n",
    "    n3 = im.size[0] - inicjaly.size[0] // 2  # widoczna pierwsza\n",
    "    result3 = wstaw_inicjaly(result2, inicjaly, m3, n3, [0, 0, 255])\n",
    "\n",
    "    # pkt 4\n",
    "    result3.save('obraz_inicjaly.png')"
   ]
  },
  {
   "cell_type": "markdown",
   "id": "2e1cfd4327d3191b",
   "metadata": {},
   "source": [
    "Funkcja Zadanie 1:<br>\n",
    "\n",
    "Wczytuje obraz_bazowy i obraz_wstawiany z pamięci, aby następnie móc na nich operować.<br>\n",
    "\n",
    "<b>W pkt 1:</b><br>\n",
    "Parametr m1 ustawiam na 0, aby uzyskać górną krawędź obrazu. Parametr n1 obliczam tak, aby znaleźć się w prawej krawędzi poziomej ekranu z przesunięciem o szerokość inicjałów. Umieszczam te parametry w funkcji wstaw_inicjaly i dodaję kolor – w tym przypadku zielony.\n",
    "\n",
    "<b>Pkt 2:</b><br>\n",
    "m2 ustawiam na pionową dolną krawędź obrazu z przesunięciem o wysokość inicjałów, a n2 ustawiam na 0 – jest to lewa dolna krawędź. Tak jak wcześniej, parametry przekazuję do funkcji, teraz jednak z kolorem czerwonym.\n",
    "\n",
    "<b>Pkt 3:</b><br>\n",
    "Współrzędną m (pionową) ustawiam na środek obrazu, a n w pobliżu krawędzi, odejmując tylko pół szerokości, aby uzyskać pierwszą literę. Parametry przekazuję z kolorem niebieskim.<br>\n",
    "\n",
    "Na koniec zapisuję obraz jako obraz_inicjaly.png. W tym obrazie zawarte są wszystkie trzy punkty z polecenia."
   ]
  },
  {
   "cell_type": "markdown",
   "id": "138f6edac95dfe2a",
   "metadata": {},
   "source": [
    "Zadanie 2:<br>\n",
    "\n",
    "Wczytałem obraz z laboratorium 4, a następnie w pętli zapisałem go, aby uzyskać obraz obraz5.jpg. Stworzyłem histogram porównujący oryginalny obraz z obrazem obraz5.jpg, a także dodatkowo histogram porównujący obraz4.jpg i obraz5.jpg.<br>\n",
    "\n",
    "Między obrazem oryginalnym a obrazem5 można zauważyć różnicę spowodowaną kompresją plików. Format JPEG wykorzystuje transformację DCT do kompresji danych, co skutkuje utratą precyzyjnych informacji o kolorach i szczegółach. Widać to dokładnie na histogramie, gdzie utracono dane o kolorach.\n",
    "![](porownanie.png)"
   ]
  },
  {
   "cell_type": "markdown",
   "id": "9396d17f969a0b78",
   "metadata": {},
   "source": [
    "Zadanie 3:<br>\n"
   ]
  },
  {
   "cell_type": "code",
   "execution_count": null,
   "id": "25596eb210c855f0",
   "metadata": {},
   "outputs": [],
   "source": [
    "def odkoduj(obraz1, obraz2):\n",
    "    t_obraz1 = np.asarray(obraz1.convert('L'))\n",
    "    t_obraz2 = np.asarray(obraz2.convert('L'))\n",
    "\n",
    "    difference = np.abs(t_obraz1 - t_obraz2)\n",
    "    difference[difference > 0] = 255\n",
    "    difference[difference == 0] = 0\n",
    "\n",
    "    return Image.fromarray(difference.astype(np.uint8))\n",
    "\n",
    "def zadanie3():\n",
    "    im_j = Image.open('jesien.jpg')\n",
    "    im_kod = Image.open('zakodowany1.bmp')\n",
    "\n",
    "    result_kod = odkoduj(im_j, im_kod)\n",
    "    result_kod.save('kod2.bmp')"
   ]
  },
  {
   "cell_type": "markdown",
   "id": "2e6b9f89f9325e8",
   "metadata": {},
   "source": [
    "W funkcji zadanie3:<br>\n",
    "Wczytuję obrazy jesien.jpg i zakodowany2.bmp, a następnie przesyłam je do funkcji odkoduj.<br>\n",
    "\n",
    "Funkcja odkoduj:<br>\n",
    "Konwertuje oba obrazy do trybu szarości (L), a następnie przekształca je do tablic NumPy.<br>\n",
    "Obliczam różnicę, stosując operację wartości bezwzględnej z różnicy tych tablic. Następnie, aby uzyskać rzetelne wyniki, wszystkie wartości większe niż 0 zapisuję jako 255, a tylko dane równe 0 pozostają jako 0.<br>\n",
    "Na koniec zwracam nowy obraz, który zapisuję zgodnie z poleceniem jako kod2.bmp.<br>"
   ]
  }
 ],
 "metadata": {
  "kernelspec": {
   "display_name": "Python 3",
   "language": "python",
   "name": "python3"
  },
  "language_info": {
   "codemirror_mode": {
    "name": "ipython",
    "version": 2
   },
   "file_extension": ".py",
   "mimetype": "text/x-python",
   "name": "python",
   "nbconvert_exporter": "python",
   "pygments_lexer": "ipython2",
   "version": "2.7.6"
  }
 },
 "nbformat": 4,
 "nbformat_minor": 5
}
