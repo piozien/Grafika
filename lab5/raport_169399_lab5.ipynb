{
 "cells": [
  {
   "metadata": {},
   "cell_type": "code",
   "outputs": [],
   "execution_count": null,
   "source": [
    "from PIL import Image, ImageChops\n",
    "import numpy as np\n",
    "import matplotlib.pyplot as plt\n",
    "from random import randint"
   ],
   "id": "d99875ab4e1bad71"
  },
  {
   "metadata": {},
   "cell_type": "markdown",
   "source": [
    "Zadanie 1:<br>\n",
    "Funkcja wstaw_inicjaly(obraz_bazowy, obraz_wstawiany, m, n, kolor)"
   ],
   "id": "2b5854a18d0fdc31"
  },
  {
   "metadata": {},
   "cell_type": "markdown",
   "source": "",
   "id": "e0825ac93656b24"
  },
  {
   "metadata": {},
   "cell_type": "code",
   "outputs": [],
   "execution_count": null,
   "source": [
    "def wstaw_inicjaly(obraz_bazowy, obraz_wstawiany, m, n, kolor):\n",
    "    obraz_bazowy = np.array(obraz_bazowy.convert('RGB'))\n",
    "    obraz_wstawiany = np.array(obraz_wstawiany.convert('L'))\n",
    "\n",
    "    obraz_bazowy.setflags(write=True)\n",
    "\n",
    "    h_wstawiany, w_wstawiany = obraz_wstawiany.shape\n",
    "    h_bazowy, w_bazowy, _ = obraz_bazowy.shape\n",
    "\n",
    "    for i in range(h_wstawiany):\n",
    "        for j in range(w_wstawiany):\n",
    "            if obraz_wstawiany[i, j] == 0:\n",
    "                x = m + i\n",
    "                y = n + j\n",
    "                if 0 <= x < h_bazowy and 0 <= y < w_bazowy:\n",
    "                    obraz_bazowy[x, y] = kolor\n",
    "\n",
    "    return Image.fromarray(obraz_bazowy)"
   ],
   "id": "69e579cbcad41269"
  },
  {
   "metadata": {},
   "cell_type": "markdown",
   "source": [
    "Funkcja wczytuje obraz_bazowy, obraz_wstawiany, pozcyje m i n praz kolor. Na podstawie wczytanych parametrów wstawia w odpowiednich miejscach obraz_wstawiany tak aby białe tło zostało zignorowane.<br>\n",
    "W pierwszym kroku zamieniam obrazy na tablice jedną formatu RGB a drugą formatu L, nastepnie ustawiam flagę write=True co umożliwia modyfikacje obrazu_bazowego.<br>\n",
    "Z obu obrazów pobieram wysokośc i szzerokość, a w obrazie bazowym jeszcze liczbę kanałów.<br>\n",
    "Iteruję po każdym pikselu obrazu_wstawianego jeżeli znajdę piksel o wartości 0 (czarny kolor) to rysuje ten piksel na obrazie bazowym według iteracji. x = m + i; y = n + j Jeżeli wylicozna wartość x i y mieści się w granicach obrazu_bazowego zaznaczam kolorem piksel.\n",
    "Funkcja zwraca zmodyfikowany obraz_bazowy, ułatwia to kolejne modyfikacje. Ja akurat wykonałem trzy podpunkty na jednym obrazie.\n"
   ],
   "id": "6f52a8c832f262a4"
  },
  {
   "metadata": {},
   "cell_type": "code",
   "outputs": [],
   "execution_count": null,
   "source": [
    "def zadanie1():\n",
    "    im = Image.open('obraz_bazowy.png')\n",
    "    inicjaly = Image.open('obraz_wstawiany.bmp')\n",
    "\n",
    "    # pkt 1\n",
    "    m1 = 0\n",
    "    n1 = im.size[0] - inicjaly.size[0]\n",
    "    result1 = wstaw_inicjaly(im, inicjaly, m1, n1, [0, 255, 0])\n",
    "\n",
    "    # pkt 2\n",
    "    m2 = im.size[1] - inicjaly.size[1]\n",
    "    n2 = 0\n",
    "    result2 = wstaw_inicjaly(result1, inicjaly, m2, n2, [255, 0, 0])\n",
    "\n",
    "    # pkt 3\n",
    "    m3 = im.size[1] // 2 - inicjaly.size[1] // 2\n",
    "    n3 = im.size[0] - inicjaly.size[0] // 2  # widoczna pierwsza\n",
    "    result3 = wstaw_inicjaly(result2, inicjaly, m3, n3, [0, 0, 255])\n",
    "\n",
    "    # pkt 4\n",
    "    result3.save('obraz_inicjaly.png')"
   ],
   "id": "3855c157d8f517d8"
  },
  {
   "metadata": {},
   "cell_type": "markdown",
   "source": [
    "Funkcja zadanie 1:<br>\n",
    "wczytuje obraz_bazowy i obraz_wstawiany z pamieci aby nastpenie móc na nim operować.<br>\n",
    "<b>W pkt1:</b> parametr m1 ustawiam na 0 aby uzyskać górną krawędź obrazu, parametr n1 obliczam tak aby znaleźć się w prawej poziomej krawędzi ekranu z przesunięciem o szerokosć inicjałów. Umieszczam parametry do funkcji wstaw_inicjaly a także dodaje kolor w tym wypadku zielony<br>\n",
    "<b>Pkt 2:</b> m2 - ustawione zostaje na pionową dolną krawędź obrazu z przesunięciem o wysokosć inicjałów, a n2 = 0 jest to lewy dolna krawędź, tak jak poprzednio parametry trafiają do funkcji, teraz z kolorem czerwonym <br>\n",
    "<b>Pkt 3:</b> Współrzędna m (pion) ustawiam na środek obrazu, a n w poblizu krawędzi odejmując tylko pół szerokosci aby była pierwsza litera. Tutaj parametry przekazuje z kolorem niebieskim<br>\n",
    "<br>\n",
    "Na koniec zapisuje obraz jako obraz_inicjaly.png, w tym obrazie zawarte są wszystkie 3 punkty z polecenia."
   ],
   "id": "2e1cfd4327d3191b"
  },
  {
   "metadata": {},
   "cell_type": "markdown",
   "source": [
    "Zadanie 2:<br>\n",
    "Wczytałem obraz z lab4 a nastepnie w pętli zapisałem go tak aby otrzymać obraz5.jpg. Stworzyłem histogram porównujący oryginalny obraz z obrazem5.jpg, a także dodatkowo histogram z porównaniem obraz4.jpg i obraz5.jpg<br>\n",
    "Między obrazem oryginalnym a obrazem5 można zauważyć różnicę spowodowaną kompresjąplików. Format JPEG wykorzystuje transformację DCT aby skompresować dane, skutkuje to utratą precyzyjnych informacji o kolorach i szczegółach. Widać to dokładnie na histogramie jak utracono dane o kolorach.\n",
    "![](porownanie.png)"
   ],
   "id": "138f6edac95dfe2a"
  },
  {
   "metadata": {},
   "cell_type": "markdown",
   "source": "",
   "id": "9396d17f969a0b78"
  }
 ],
 "metadata": {
  "kernelspec": {
   "display_name": "Python 3",
   "language": "python",
   "name": "python3"
  },
  "language_info": {
   "codemirror_mode": {
    "name": "ipython",
    "version": 2
   },
   "file_extension": ".py",
   "mimetype": "text/x-python",
   "name": "python",
   "nbconvert_exporter": "python",
   "pygments_lexer": "ipython2",
   "version": "2.7.6"
  }
 },
 "nbformat": 4,
 "nbformat_minor": 5
}
